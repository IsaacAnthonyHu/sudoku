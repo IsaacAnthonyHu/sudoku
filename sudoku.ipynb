{
 "cells": [
  {
   "cell_type": "code",
   "execution_count": 114,
   "metadata": {},
   "outputs": [],
   "source": [
    "import numpy as np\n",
    "import copy"
   ]
  },
  {
   "cell_type": "code",
   "execution_count": 29,
   "metadata": {},
   "outputs": [],
   "source": [
    "def get_subgrid(sudoku, i, j):\n",
    "    \"\"\"\n",
    "    return a subgrid from any number in the sudoku grid\n",
    "    by it's row number i and column number j\n",
    "    \"\"\"\n",
    "    i = i//3\n",
    "    j = j//3\n",
    "    reference = [(0,3), (3,6), (6,9)]\n",
    "    return sudoku[reference[i][0]:reference[i][1], reference[j][0]:reference[j][1]]\n",
    "\n",
    "def int_list2int(int_list):\n",
    "    list_length = len(int_list)\n",
    "    init = 0\n",
    "    for x in range(list_length):\n",
    "        init += int_list[x]*10**(list_length-1-x)\n",
    "    return init\n",
    "\n",
    "def int2int_list(int):\n",
    "    str_int = str(int)\n",
    "    return [int(x) for x in str_int]"
   ]
  },
  {
   "cell_type": "code",
   "execution_count": 184,
   "metadata": {},
   "outputs": [],
   "source": [
    "def check_only_existance(sudoku, axis):\n",
    "    if axis == 'row':\n",
    "        still = copy.deepcopy(sudoku)\n",
    "        for row in still:\n",
    "            for y in range(9):\n",
    "                if len(str(row[y])) != 1:\n",
    "                    for num in str(row[y]):\n",
    "                        if num not in ''.join([str(x) for x in row if len(str(x)) > 1 and x != row[y]]):\n",
    "                            print(num)\n",
    "                            row[y] = int(num)\n",
    "                            break\n",
    "                    else:\n",
    "                        continue\n",
    "                    break\n",
    "            else:\n",
    "                continue\n",
    "            break\n",
    "        return still\n",
    "\n",
    "    elif axis == 'column':\n",
    "        still = copy.deepcopy(sudoku.T)\n",
    "        for column in still:\n",
    "            for y in range(9):\n",
    "                if len(str(row[y])) != 1:\n",
    "                    for num in str(row[y]):\n",
    "                        if num not in ''.join([str(x) for x in row if len(str(x)) > 1 and x != row[y]]):\n",
    "                            print(num)\n",
    "                            row[y] = int(num)\n",
    "                            break\n",
    "                    else:\n",
    "                        continue\n",
    "                    break\n",
    "            else:\n",
    "                continue\n",
    "            break\n",
    "        return still.T\n",
    "\n",
    "    elif axis == 'subgrid':\n",
    "        still = [np.reshape(sudoku[x[0]:x[1], y[0]:y[1]],9) for x in ((0,3), (3,6), (6,9)) for y in ((0,3), (3,6), (6,9))]\n",
    "        for subgrid in still:\n",
    "            for y in range(9):\n",
    "                if len(str(row[y])) != 1:\n",
    "                    for num in str(row[y]):\n",
    "                        if num not in ''.join([str(x) for x in row if len(str(x)) > 1 and x != row[y]]):\n",
    "                            print(num)\n",
    "                            row[y] = int(num)\n",
    "                            break\n",
    "                    else:\n",
    "                        continue\n",
    "                    break\n",
    "            else:\n",
    "                continue\n",
    "            break\n",
    "        regrid = [np.reshape(x, (3,3)) for x in still]\n",
    "        return np.concatenate([np.concatenate((regrid[x], regrid[x+1], regrid[x+2]), axis=1) for x in (0,3,6)], axis=0)\n",
    "\n",
    "    else:\n",
    "        print(\"Wrong axis!\")\n"
   ]
  },
  {
   "cell_type": "code",
   "execution_count": 130,
   "metadata": {},
   "outputs": [],
   "source": [
    "def assumption(sudoku):\n",
    "    \n",
    "    still = copy.deepcopy(sudoku)\n",
    "    for i in range(9):\n",
    "        for j in range(9):\n",
    "            if sudoku[i][j] == 0:\n",
    "                sub1 = sudoku[i]\n",
    "                sub2 = sudoku[:, j]\n",
    "                sub3 = np.reshape(get_subgrid(sudoku, i, j), 9)\n",
    "                numbers_appeared = np.concatenate((sub1, sub2, sub3))\n",
    "                sub_all = set(numbers_appeared)\n",
    "                possible_nums = {1,2,3,4,5,6,7,8,9} - sub_all\n",
    "                if len(possible_nums) != 1:\n",
    "                    still[i][j] = int_list2int(list(possible_nums))\n",
    "                else:\n",
    "                    still[i][j] = list(possible_nums)[0]\n",
    "    return still"
   ]
  },
  {
   "cell_type": "code",
   "execution_count": 62,
   "metadata": {},
   "outputs": [],
   "source": [
    "def clear_more_than_ten(np_array):\n",
    "    np_array[np_array > 9] = 0\n",
    "    return np_array"
   ]
  },
  {
   "cell_type": "code",
   "execution_count": 193,
   "metadata": {},
   "outputs": [],
   "source": [
    "def clear_ten_more(func):\n",
    "    def wrapper(args):\n",
    "        result_array = func(args)\n",
    "        result_array[result_array > 9] = 0\n",
    "        return result_array\n",
    "    return wrapper"
   ]
  },
  {
   "cell_type": "code",
   "execution_count": 131,
   "metadata": {},
   "outputs": [],
   "source": [
    "result_array = np.array([[0,0,5,0,6,0,0,0,7],\n",
    "                         [2,0,0,0,5,0,3,0,0],\n",
    "                         [3,0,0,0,2,0,1,0,8],\n",
    "                         [1,0,0,7,4,0,9,0,0],\n",
    "                         [0,7,0,0,8,0,0,3,0],\n",
    "                         [0,0,4,1,0,0,0,0,6],\n",
    "                         [6,0,1,0,9,0,0,0,4],\n",
    "                         [0,0,3,0,7,0,0,0,5],\n",
    "                         [7,0,0,0,1,0,6,0,0]])"
   ]
  },
  {
   "cell_type": "code",
   "execution_count": 194,
   "metadata": {},
   "outputs": [],
   "source": [
    "@clear_ten_plus\n",
    "def testtest(sudoku):\n",
    "    \n",
    "    still = copy.deepcopy(sudoku)\n",
    "    for i in range(9):\n",
    "        for j in range(9):\n",
    "            if sudoku[i][j] == 0:\n",
    "                sub1 = sudoku[i]\n",
    "                sub2 = sudoku[:, j]\n",
    "                sub3 = np.reshape(get_subgrid(sudoku, i, j), 9)\n",
    "                numbers_appeared = np.concatenate((sub1, sub2, sub3))\n",
    "                sub_all = set(numbers_appeared)\n",
    "                possible_nums = {1,2,3,4,5,6,7,8,9} - sub_all\n",
    "                if len(possible_nums) != 1:\n",
    "                    still[i][j] = int_list2int(list(possible_nums))\n",
    "                else:\n",
    "                    still[i][j] = list(possible_nums)[0]\n",
    "    return still"
   ]
  }
 ],
 "metadata": {
  "kernelspec": {
   "display_name": "Python 3",
   "language": "python",
   "name": "python3"
  },
  "language_info": {
   "codemirror_mode": {
    "name": "ipython",
    "version": 3
   },
   "file_extension": ".py",
   "mimetype": "text/x-python",
   "name": "python",
   "nbconvert_exporter": "python",
   "pygments_lexer": "ipython3",
   "version": "3.7.4"
  }
 },
 "nbformat": 4,
 "nbformat_minor": 4
}
